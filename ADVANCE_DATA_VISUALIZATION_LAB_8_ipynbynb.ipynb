{
  "nbformat": 4,
  "nbformat_minor": 0,
  "metadata": {
    "colab": {
      "provenance": [],
      "authorship_tag": "ABX9TyO1UO7bZct0QWX2GlVSQHZX",
      "include_colab_link": true
    },
    "kernelspec": {
      "name": "python3",
      "display_name": "Python 3"
    },
    "language_info": {
      "name": "python"
    }
  },
  "cells": [
    {
      "cell_type": "markdown",
      "metadata": {
        "id": "view-in-github",
        "colab_type": "text"
      },
      "source": [
        "<a href=\"https://colab.research.google.com/github/JamesHop31/ADVANCE-DATA-VISUALIZATION-LAB-8/blob/main/ADVANCE_DATA_VISUALIZATION_LAB_8_ipynbynb.ipynb\" target=\"_parent\"><img src=\"https://colab.research.google.com/assets/colab-badge.svg\" alt=\"Open In Colab\"/></a>"
      ]
    },
    {
      "cell_type": "code",
      "execution_count": 2,
      "metadata": {
        "colab": {
          "base_uri": "https://localhost:8080/"
        },
        "id": "e_iAT9Jno88s",
        "outputId": "b72e0f31-1727-4293-cff3-1563d2943c31"
      },
      "outputs": [
        {
          "output_type": "stream",
          "name": "stdout",
          "text": [
            "[3, True, 'Michael', 2.0]\n"
          ]
        }
      ],
      "source": [
        "heterogenousElements = [3, True, 'Michael', 2.0]\n",
        "print(heterogenousElements)"
      ]
    },
    {
      "cell_type": "code",
      "source": [
        "heterogenousElements[0]"
      ],
      "metadata": {
        "colab": {
          "base_uri": "https://localhost:8080/"
        },
        "id": "88k6JMCfpRMe",
        "outputId": "d7741fd4-8bf4-40b0-d0dd-307e3096ac2d"
      },
      "execution_count": 6,
      "outputs": [
        {
          "output_type": "execute_result",
          "data": {
            "text/plain": [
              "3"
            ]
          },
          "metadata": {},
          "execution_count": 6
        }
      ]
    },
    {
      "cell_type": "code",
      "source": [
        "heterogenousElements[:2]"
      ],
      "metadata": {
        "colab": {
          "base_uri": "https://localhost:8080/"
        },
        "id": "A2N_cckNpXvc",
        "outputId": "43331088-d9f2-49f0-90f7-1a917ee0afd6"
      },
      "execution_count": 7,
      "outputs": [
        {
          "output_type": "execute_result",
          "data": {
            "text/plain": [
              "[3, True]"
            ]
          },
          "metadata": {},
          "execution_count": 7
        }
      ]
    },
    {
      "cell_type": "code",
      "source": [
        "heterogenousElements[0:3]"
      ],
      "metadata": {
        "colab": {
          "base_uri": "https://localhost:8080/"
        },
        "id": "oxLJtn54pwUC",
        "outputId": "f308344f-1152-4f95-f6f9-35133d412820"
      },
      "execution_count": 9,
      "outputs": [
        {
          "output_type": "execute_result",
          "data": {
            "text/plain": [
              "[3, True, 'Michael']"
            ]
          },
          "metadata": {},
          "execution_count": 9
        }
      ]
    }
  ]
}